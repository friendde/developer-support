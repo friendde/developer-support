{
 "cells": [
  {
   "cell_type": "code",
   "execution_count": 1,
   "metadata": {},
   "outputs": [],
   "source": [
    "import arcpy\n",
    "import datetime\n",
    "#import json\n",
    "import logging\n",
    "import os\n",
    "import re\n",
    "import sys\n",
    "\n",
    "from arcgis.gis import GIS\n",
    "from arcgis import features\n",
    "from getpass import getpass\n",
    "#from getpass import getuser\n",
    "from IPython.display import display\n",
    "from pathlib import Path"
   ]
  },
  {
   "cell_type": "code",
   "execution_count": 2,
   "metadata": {},
   "outputs": [],
   "source": [
    "#Set to False if ArcGIS Enterprise cert is not valid\n",
    "PortalCertVerification = False"
   ]
  },
  {
   "cell_type": "code",
   "execution_count": 3,
   "metadata": {},
   "outputs": [],
   "source": [
    "#https://stackoverflow.com/questions/273192/how-can-i-create-a-directory-if-it-does-not-exist\n",
    "def createFolder(folderPath):\n",
    "    if not os.path.exists(folderPath):\n",
    "        try:\n",
    "            os.makedirs(folderPath)\n",
    "        except OSError as e:\n",
    "            if e.errno != errno.EEXIST:\n",
    "                raise\n",
    "\n",
    "def renameFile(currentAttachmentPath, newAttachmentPath):\n",
    "    #Rename file - ensure new attachment path does not exist already\n",
    "    if not os.path.exists(newAttachmentPath):\n",
    "        os.rename(currentAttachmentPath, newAttachmentPath)\n",
    "        logger.info('{} being renamed as {}'.format(currentAttachmentPath, newAttachmentPath))\n",
    "    else:\n",
    "        logger.warning('Not able to rename {} as {} because file already exists. Removing {}'.format(currentAttachmentPath, newAttachmentPath, currentAttachmentPath))\n",
    "        os.remove(currentAttachmentPath)"
   ]
  },
  {
   "cell_type": "markdown",
   "metadata": {},
   "source": [
    "[Excellent tutorial on Python Logging](https://realpython.com/python-logging/)"
   ]
  },
  {
   "cell_type": "code",
   "execution_count": 4,
   "metadata": {},
   "outputs": [
    {
     "name": "stdout",
     "output_type": "stream",
     "text": [
      "Enter directory path for log file C:\\Users\\friendde\\Documents\\ArcGIS\\Projects\\UpdateDamageAssesment\\Logger\n"
     ]
    }
   ],
   "source": [
    "SaveLogsTo = input(f'Enter directory path for log file ')\n",
    "#Setup logging - levels are DEBUG,INFO,WARNING,ERROR,CRITICAL\n",
    "logging.basicConfig(level=logging.INFO)\n",
    "logger = logging.getLogger(__name__)\n",
    "logFileName = datetime.datetime.now().strftime('%Y-%m-%d %H-%M-%S')\n",
    "fileHandler = logging.handlers.RotatingFileHandler(f'{SaveLogsTo}/{logFileName}.log', maxBytes=100000, backupCount=5)\n",
    "formatter = logging.Formatter('%(asctime)s %(levelname)s %(relativeCreated)d \\n%(filename)s %(module)s %(funcName)s %(lineno)d \\n%(message)s\\n')\n",
    "fileHandler.setFormatter(formatter)\n",
    "logger.addHandler(fileHandler)"
   ]
  },
  {
   "cell_type": "markdown",
   "metadata": {},
   "source": [
    "Sign-in to the portal of your choice"
   ]
  },
  {
   "cell_type": "code",
   "execution_count": 28,
   "metadata": {},
   "outputs": [
    {
     "name": "stdout",
     "output_type": "stream",
     "text": [
      "Do you want to use the active portal? https://gru.maps.arcgis.com/ [y or n] n\n",
      "Enter Portal Address https://wms.gru.com/portal\n",
      "Enter User Name siteadmin\n",
      "········\n",
      "Portal Name - Portal for ArcGIS\n",
      "Connected to None as user siteadmin\n"
     ]
    }
   ],
   "source": [
    "response = input(f'Do you want to use the active portal? {(arcpy.GetActivePortalURL())} [y or n] ')\n",
    "if response.upper() in \"YES\":\n",
    "    username=input(\"Enter User Name \")\n",
    "    gis = GIS(arcpy.GetActivePortalURL(), username, password=(getpass()))\n",
    "else:\n",
    "    portalURL=input(\"Enter Portal Address \")\n",
    "    username=input(\"Enter User Name \")\n",
    "    gis = GIS(portalURL, username, password=getpass())\n",
    "portal_desc = arcpy.GetPortalDescription(portalURL)\n",
    "print(f'Portal Name - {portal_desc[\"portalName\"]}\\nConnected to {portal_desc[\"portalHostname\"]} as user {username}')"
   ]
  },
  {
   "cell_type": "markdown",
   "metadata": {},
   "source": [
    "[Searching for Content](https://developers.arcgis.com/python/guide/accessing-and-creating-content/#searching-for-content)\n",
    "https://esri.github.io/arcgis-python-api/apidoc/html/arcgis.gis.toc.html#arcgis.gis.ContentManager.search\n",
    "https://developers.arcgis.com/rest/users-groups-and-items/search-reference.htm\n",
    "https://developers.arcgis.com/rest/users-groups-and-items/search.htm\n",
    "https://developers.arcgis.com/rest/users-groups-and-items/search-reference.htm\n",
    "https://developers.arcgis.com/rest/users-groups-and-items/item.htm\n",
    "https://developers.arcgis.com/rest/users-groups-and-items/common-parameters.htm\n"
   ]
  },
  {
   "cell_type": "code",
   "execution_count": 37,
   "metadata": {},
   "outputs": [
    {
     "name": "stderr",
     "output_type": "stream",
     "text": [
      "INFO:arcgis._impl.portalpy:Searching items (q=\"\" AND  (type:\"feature service\") accountid:0123456789ABCDEF, bbox=None, start=1, num=100)\n"
     ]
    },
    {
     "data": {
      "text/plain": [
       "[<Item title:\"2016 Population Density by Congressional District\" type:Feature Layer Collection owner:esri_livingatlas>,\n",
       " <Item title:\"2016 USA Traffic Counts\" type:Feature Layer Collection owner:esri_livingatlas>,\n",
       " <Item title:\"Algeria Country Boundary 2014\" type:Feature Layer Collection owner:esri_livingatlas>,\n",
       " <Item title:\"Algeria Wilayat Boundaries 2014\" type:Feature Layer Collection owner:esri_livingatlas>,\n",
       " <Item title:\"AlpineAuditTest\" type:Feature Layer Collection owner:FRIENDDE@GRUADMIN>,\n",
       " <Item title:\"Argentina Country Boundary 2014\" type:Feature Layer Collection owner:esri_livingatlas>,\n",
       " <Item title:\"Argentina Departamento Boundaries 2014\" type:Feature Layer Collection owner:esri_livingatlas>,\n",
       " <Item title:\"Argentina Provincia Boundaries 2014\" type:Feature Layer Collection owner:esri_livingatlas>,\n",
       " <Item title:\"Australia Country Boundary 2014\" type:Feature Layer Collection owner:esri_livingatlas>,\n",
       " <Item title:\"Australia LocalGovernmentArea Boundaries 2014\" type:Feature Layer Collection owner:esri_livingatlas>,\n",
       " <Item title:\"Australia Postcodes1 Boundaries 2014\" type:Feature Layer Collection owner:esri_livingatlas>,\n",
       " <Item title:\"Australia Postcodes2 Boundaries 2014\" type:Feature Layer Collection owner:esri_livingatlas>,\n",
       " <Item title:\"Australia Postcodes4 Boundaries 2014\" type:Feature Layer Collection owner:esri_livingatlas>,\n",
       " <Item title:\"Australia State Boundaries 2014\" type:Feature Layer Collection owner:esri_livingatlas>,\n",
       " <Item title:\"Australia StatisticalAreasLevel1 Boundaries 2014\" type:Feature Layer Collection owner:esri_livingatlas>,\n",
       " <Item title:\"Australia StatisticalAreasLevel2 Boundaries 2014\" type:Feature Layer Collection owner:esri_livingatlas>,\n",
       " <Item title:\"Australia StatisticalAreasLevel3 Boundaries 2014\" type:Feature Layer Collection owner:esri_livingatlas>,\n",
       " <Item title:\"Australia StatisticalAreasLevel4 Boundaries 2014\" type:Feature Layer Collection owner:esri_livingatlas>,\n",
       " <Item title:\"Austria Bezirke Boundaries 2013\" type:Feature Layer Collection owner:esri_livingatlas>,\n",
       " <Item title:\"Austria Bundeslander Boundaries 2013\" type:Feature Layer Collection owner:esri_livingatlas>,\n",
       " <Item title:\"Austria Country Boundaries 2013\" type:Feature Layer Collection owner:esri_livingatlas>,\n",
       " <Item title:\"Austria Gemeinden Boundaries 2013\" type:Feature Layer Collection owner:esri_livingatlas>,\n",
       " <Item title:\"Austria Postcodes1 Boundaries 2013\" type:Feature Layer Collection owner:esri_livingatlas>,\n",
       " <Item title:\"Austria Postcodes2 Boundaries 2013\" type:Feature Layer Collection owner:esri_livingatlas>,\n",
       " <Item title:\"Austria Postcodes4 Boundaries 2013\" type:Feature Layer Collection owner:esri_livingatlas>,\n",
       " <Item title:\"Bangladesh Country Boundary 2014\" type:Feature Layer Collection owner:esri_livingatlas>,\n",
       " <Item title:\"Bangladesh Region Boundaries 2014\" type:Feature Layer Collection owner:esri_livingatlas>,\n",
       " <Item title:\"Bangladesh Upazila Boundaries 2014\" type:Feature Layer Collection owner:esri_livingatlas>,\n",
       " <Item title:\"Bangladesh Zila Boundaries 2014\" type:Feature Layer Collection owner:esri_livingatlas>,\n",
       " <Item title:\"Belgium Arrondissment Boundaries 2013\" type:Feature Layer Collection owner:esri_livingatlas>,\n",
       " <Item title:\"Belgium Commune Boundaries 2013\" type:Feature Layer Collection owner:esri_livingatlas>,\n",
       " <Item title:\"Belgium Country Boundary 2013\" type:Feature Layer Collection owner:esri_livingatlas>,\n",
       " <Item title:\"Belgium Geweest Boundaries 2013\" type:Feature Layer Collection owner:esri_livingatlas>,\n",
       " <Item title:\"Belgium Postcodes1 Boundaries 2013\" type:Feature Layer Collection owner:esri_livingatlas>,\n",
       " <Item title:\"Belgium Postcodes2 Boundaries 2013\" type:Feature Layer Collection owner:esri_livingatlas>,\n",
       " <Item title:\"Belgium Postcodes4 Boundaries 2013\" type:Feature Layer Collection owner:esri_livingatlas>,\n",
       " <Item title:\"Belgium Provincie Boundaries 2013\" type:Feature Layer Collection owner:esri_livingatlas>,\n",
       " <Item title:\"Brazil Country Boundary 2014\" type:Feature Layer Collection owner:esri_livingatlas>,\n",
       " <Item title:\"Brazil Distritos Boundaries 2014\" type:Feature Layer Collection owner:esri_livingatlas>,\n",
       " <Item title:\"Brazil Municipios Boundaries 2014\" type:Feature Layer Collection owner:esri_livingatlas>,\n",
       " <Item title:\"Brazil Setores Boundaries 2014\" type:Feature Layer Collection owner:esri_livingatlas>,\n",
       " <Item title:\"Brazil Subdistritos Boundaries 2014\" type:Feature Layer Collection owner:esri_livingatlas>,\n",
       " <Item title:\"Brazil Unidades Boundaries 2014\" type:Feature Layer Collection owner:esri_livingatlas>,\n",
       " <Item title:\"Chile Comuna Boundaries 2014\" type:Feature Layer Collection owner:esri_livingatlas>,\n",
       " <Item title:\"Chile Country Boundary 2014\" type:Feature Layer Collection owner:esri_livingatlas>,\n",
       " <Item title:\"Chile Provincia Boundaries 2014\" type:Feature Layer Collection owner:esri_livingatlas>,\n",
       " <Item title:\"Chile Regione Boundaries 2014\" type:Feature Layer Collection owner:esri_livingatlas>,\n",
       " <Item title:\"China CountiesCities Boundaries 2015\" type:Feature Layer Collection owner:esri_livingatlas>,\n",
       " <Item title:\"China CountiesCityDist Boundaries 2015\" type:Feature Layer Collection owner:esri_livingatlas>,\n",
       " <Item title:\"China Country Boundary 2015\" type:Feature Layer Collection owner:esri_livingatlas>,\n",
       " <Item title:\"China Prefecture Boundaries 2015\" type:Feature Layer Collection owner:esri_livingatlas>,\n",
       " <Item title:\"China Province Boundaries 2015\" type:Feature Layer Collection owner:esri_livingatlas>,\n",
       " <Item title:\"Colombia Country Boundary 2014\" type:Feature Layer Collection owner:esri_livingatlas>,\n",
       " <Item title:\"Colombia Departamentos Boundaries 2014\" type:Feature Layer Collection owner:esri_livingatlas>,\n",
       " <Item title:\"Colombia Municipios Boundaries 2014\" type:Feature Layer Collection owner:esri_livingatlas>,\n",
       " <Item title:\"Czech Republic BSU Boundaries 2013\" type:Feature Layer Collection owner:esri_livingatlas>,\n",
       " <Item title:\"Czech Republic Country Boundary 2013\" type:Feature Layer Collection owner:esri_livingatlas>,\n",
       " <Item title:\"Czech Republic Kraj Boundaries 2013\" type:Feature Layer Collection owner:esri_livingatlas>,\n",
       " <Item title:\"Czech Republic Obce Boundaries 2013\" type:Feature Layer Collection owner:esri_livingatlas>,\n",
       " <Item title:\"Czech Republic Oblasti Boundaries 2013\" type:Feature Layer Collection owner:esri_livingatlas>,\n",
       " <Item title:\"Czech Republic Okresy Boundaries 2013\" type:Feature Layer Collection owner:esri_livingatlas>,\n",
       " <Item title:\"Czech Republic Orp Boundaries 2013\" type:Feature Layer Collection owner:esri_livingatlas>,\n",
       " <Item title:\"Czech Republic Postcodes1 Boundaries 2013\" type:Feature Layer Collection owner:esri_livingatlas>,\n",
       " <Item title:\"Czech Republic Postcodes2 Boundaries 2013\" type:Feature Layer Collection owner:esri_livingatlas>,\n",
       " <Item title:\"Czech Republic Postcodes5 Boundaries 2013\" type:Feature Layer Collection owner:esri_livingatlas>,\n",
       " <Item title:\"Denmark Country Boundary 2013\" type:Feature Layer Collection owner:esri_livingatlas>,\n",
       " <Item title:\"Denmark Kommuner Boundaries 2013\" type:Feature Layer Collection owner:esri_livingatlas>,\n",
       " <Item title:\"Denmark Landsdeler Boundaries 2013\" type:Feature Layer Collection owner:esri_livingatlas>,\n",
       " <Item title:\"Denmark Postcodes1 Boundaries 2013\" type:Feature Layer Collection owner:esri_livingatlas>,\n",
       " <Item title:\"Denmark Postcodes2 Boundaries 2013\" type:Feature Layer Collection owner:esri_livingatlas>,\n",
       " <Item title:\"Denmark Regioner Boundaries 2013\" type:Feature Layer Collection owner:esri_livingatlas>,\n",
       " <Item title:\"Ecuador Cantone Boundaries 2014\" type:Feature Layer Collection owner:esri_livingatlas>,\n",
       " <Item title:\"Ecuador Country Boundary 2014\" type:Feature Layer Collection owner:esri_livingatlas>,\n",
       " <Item title:\"Ecuador Provincia Boundaries 2014\" type:Feature Layer Collection owner:esri_livingatlas>,\n",
       " <Item title:\"ElectricDamageAssessment\" type:Feature Layer Collection owner:FRIENDDE@GRUADMIN>,\n",
       " <Item title:\"ElectricDamageAssessment\" type:Feature Layer Collection owner:FRIENDDE@GRUADMIN>,\n",
       " <Item title:\"ElectricDamageAssessment\" type:Feature Layer Collection owner:siteadmin>,\n",
       " <Item title:\"ElectricDamageAssessmentPie\" type:Feature Layer Collection owner:siteadmin>,\n",
       " <Item title:\"Europe Hexbins 10km\" type:Feature Layer Collection owner:esri_livingatlas>,\n",
       " <Item title:\"Europe Hexbins 25km\" type:Feature Layer Collection owner:esri_livingatlas>,\n",
       " <Item title:\"Europe NUTS 0 Demographics\" type:Feature Layer Collection owner:esri_livingatlas>,\n",
       " <Item title:\"Europe NUTS 1 Demographics\" type:Feature Layer Collection owner:esri_livingatlas>,\n",
       " <Item title:\"Europe NUTS 2 Demographics\" type:Feature Layer Collection owner:esri_livingatlas>,\n",
       " <Item title:\"Europe NUTS 3 Demographics\" type:Feature Layer Collection owner:esri_livingatlas>,\n",
       " <Item title:\"Finland Country Boundary 2013\" type:Feature Layer Collection owner:esri_livingatlas>,\n",
       " <Item title:\"Finland Kunnat Boundaries 2013\" type:Feature Layer Collection owner:esri_livingatlas>,\n",
       " <Item title:\"Finland Maakunnat Boundaries 2013\" type:Feature Layer Collection owner:esri_livingatlas>,\n",
       " <Item title:\"Finland Postcodes1 Boundaries 2013\" type:Feature Layer Collection owner:esri_livingatlas>,\n",
       " <Item title:\"Finland Postcodes2 Boundaries 2013\" type:Feature Layer Collection owner:esri_livingatlas>,\n",
       " <Item title:\"Finland Postcodes5 Boundaries 2013\" type:Feature Layer Collection owner:esri_livingatlas>,\n",
       " <Item title:\"Finland Seutukunnat Boundaries 2013\" type:Feature Layer Collection owner:esri_livingatlas>,\n",
       " <Item title:\"Finland Suuralueet Boundaries 2013\" type:Feature Layer Collection owner:esri_livingatlas>,\n",
       " <Item title:\"France Arrondissement Boundaries 2013\" type:Feature Layer Collection owner:esri_livingatlas>,\n",
       " <Item title:\"France Canton Boundaries 2013\" type:Feature Layer Collection owner:esri_livingatlas>,\n",
       " <Item title:\"France Commune Boundaries 2013\" type:Feature Layer Collection owner:esri_livingatlas>,\n",
       " <Item title:\"France Country Boundary 2013\" type:Feature Layer Collection owner:esri_livingatlas>,\n",
       " <Item title:\"France Departement Boundaries 2013\" type:Feature Layer Collection owner:esri_livingatlas>,\n",
       " <Item title:\"France Postcodes2 Boundaries 2013\" type:Feature Layer Collection owner:esri_livingatlas>,\n",
       " <Item title:\"France Postcodes5 Boundaries 2013\" type:Feature Layer Collection owner:esri_livingatlas>,\n",
       " <Item title:\"France Region Boundaries 2013\" type:Feature Layer Collection owner:esri_livingatlas>]"
      ]
     },
     "execution_count": 37,
     "metadata": {},
     "output_type": "execute_result"
    }
   ],
   "source": [
    "# search and list all items owned by connected user\n",
    "# search(query, item_type=None, sort_field='avgRating', sort_order='desc', max_items=10, outside_org=False, categories=None, category_filters=None)\n",
    "#query=f'owner:{username}'\n",
    "query=f'access:public'\n",
    "#query='\"\"'\n",
    "outsideOrg = False\n",
    "itemType=\"Feature Layer\"\n",
    "sortField=\"title\"\n",
    "sortOrder=\"asc\"\n",
    "# default max__items is 10\n",
    "maxItems=100\n",
    "searchResult = gis.content.search(query,itemType,sortField,sortOrder,maxItems,outsideOrg)\n",
    "#searchResult = gis.content.search(query,itemType,outside_org = False)\n",
    "searchResult"
   ]
  },
  {
   "cell_type": "code",
   "execution_count": 7,
   "metadata": {},
   "outputs": [
    {
     "data": {
      "text/html": [
       "<div class=\"item_container\" style=\"height: auto; overflow: hidden; border: 1px solid #cfcfcf; border-radius: 2px; background: #f6fafa; line-height: 1.21429em; padding: 10px;\">\n",
       "                    <div class=\"item_left\" style=\"width: 210px; float: left;\">\n",
       "                       <a href='https://wms.gru.com/portal/home/item.html?id=807928c1b69a4e9aa2b3eddc586a3484' target='_blank'>\n",
       "                        <img src='https://wms.gru.com/portal/portalimages/desktopapp.png' class=\"itemThumbnail\">\n",
       "                       </a>\n",
       "                    </div>\n",
       "\n",
       "                    <div class=\"item_right\"     style=\"float: none; width: auto; overflow: hidden;\">\n",
       "                        <a href='https://wms.gru.com/portal/home/item.html?id=807928c1b69a4e9aa2b3eddc586a3484' target='_blank'><b>SampleWorldCities</b>\n",
       "                        </a>\n",
       "                        <br/><img src='https://wms.gru.com/portal/home/js/jsapi/esri/css/images/item_type_icons/featureshosted16.png' style=\"vertical-align:middle;\">Feature Layer Collection by siteadmin\n",
       "                        <br/>Last Modified: November 08, 2018\n",
       "                        <br/>0 comments, 0 views\n",
       "                    </div>\n",
       "                </div>\n",
       "                "
      ],
      "text/plain": [
       "<Item title:\"SampleWorldCities\" type:Feature Layer Collection owner:siteadmin>"
      ]
     },
     "metadata": {},
     "output_type": "display_data"
    },
    {
     "name": "stdout",
     "output_type": "stream",
     "text": [
      "Download Attachments from SampleWorldCities [Y,N]n\n"
     ]
    },
    {
     "data": {
      "text/html": [
       "<div class=\"item_container\" style=\"height: auto; overflow: hidden; border: 1px solid #cfcfcf; border-radius: 2px; background: #f6fafa; line-height: 1.21429em; padding: 10px;\">\n",
       "                    <div class=\"item_left\" style=\"width: 210px; float: left;\">\n",
       "                       <a href='https://wms.gru.com/portal/home/item.html?id=cea9d650005f46b68f47a9b1867655d4' target='_blank'>\n",
       "                        <img src='https://wms.gru.com/portal/portalimages/desktopapp.png' class=\"itemThumbnail\">\n",
       "                       </a>\n",
       "                    </div>\n",
       "\n",
       "                    <div class=\"item_right\"     style=\"float: none; width: auto; overflow: hidden;\">\n",
       "                        <a href='https://wms.gru.com/portal/home/item.html?id=cea9d650005f46b68f47a9b1867655d4' target='_blank'><b>public_BuildingFootprints</b>\n",
       "                        </a>\n",
       "                        <br/><img src='https://wms.gru.com/portal/home/js/jsapi/esri/css/images/item_type_icons/featureshosted16.png' style=\"vertical-align:middle;\">Feature Layer Collection by siteadmin\n",
       "                        <br/>Last Modified: May 02, 2019\n",
       "                        <br/>0 comments, 0 views\n",
       "                    </div>\n",
       "                </div>\n",
       "                "
      ],
      "text/plain": [
       "<Item title:\"public_BuildingFootprints\" type:Feature Layer Collection owner:siteadmin>"
      ]
     },
     "metadata": {},
     "output_type": "display_data"
    },
    {
     "name": "stdout",
     "output_type": "stream",
     "text": [
      "Download Attachments from public_BuildingFootprints [Y,N]n\n"
     ]
    },
    {
     "data": {
      "text/html": [
       "<div class=\"item_container\" style=\"height: auto; overflow: hidden; border: 1px solid #cfcfcf; border-radius: 2px; background: #f6fafa; line-height: 1.21429em; padding: 10px;\">\n",
       "                    <div class=\"item_left\" style=\"width: 210px; float: left;\">\n",
       "                       <a href='https://wms.gru.com/portal/home/item.html?id=5f1f5df48d664d8bbe4b7d4c4805f220' target='_blank'>\n",
       "                        <img src='data:image/png;base64,/9j/4AAQSkZJRgABAgAAAQABAAD/2wBDAAgGBgcGBQgHBwcJCQgKDBQNDAsLDBkSEw8UHRofHh0aHBwgJC4nICIsIxwcKDcpLDAxNDQ0Hyc5PTgyPC4zNDL/2wBDAQkJCQwLDBgNDRgyIRwhMjIyMjIyMjIyMjIyMjIyMjIyMjIyMjIyMjIyMjIyMjIyMjIyMjIyMjIyMjIyMjIyMjL/wAARCACFAMgDASIAAhEBAxEB/8QAHwAAAQUBAQEBAQEAAAAAAAAAAAECAwQFBgcICQoL/8QAtRAAAgEDAwIEAwUFBAQAAAF9AQIDAAQRBRIhMUEGE1FhByJxFDKBkaEII0KxwRVS0fAkM2JyggkKFhcYGRolJicoKSo0NTY3ODk6Q0RFRkdISUpTVFVWV1hZWmNkZWZnaGlqc3R1dnd4eXqDhIWGh4iJipKTlJWWl5iZmqKjpKWmp6ipqrKztLW2t7i5usLDxMXGx8jJytLT1NXW19jZ2uHi4+Tl5ufo6erx8vP09fb3+Pn6/8QAHwEAAwEBAQEBAQEBAQAAAAAAAAECAwQFBgcICQoL/8QAtREAAgECBAQDBAcFBAQAAQJ3AAECAxEEBSExBhJBUQdhcRMiMoEIFEKRobHBCSMzUvAVYnLRChYkNOEl8RcYGRomJygpKjU2Nzg5OkNERUZHSElKU1RVVldYWVpjZGVmZ2hpanN0dXZ3eHl6goOEhYaHiImKkpOUlZaXmJmaoqOkpaanqKmqsrO0tba3uLm6wsPExcbHyMnK0tPU1dbX2Nna4uPk5ebn6Onq8vP09fb3+Pn6/9oADAMBAAIRAxEAPwD3+iiigAooooAKKKKACiiigAooooAKKKKACiiigAooooAKKKKACiiigAooooAKKKKACiiigAooooAKKKKACiiigAooooAKKKKACiiigAooooAKKKKACiiigAooooAKKKKACiiigAooooAKKKKACiiigAooooAKKKKACiiigAooooAKKKKACiiigAooooAKKKKACiiigAooooAKKKKACiiigAooooAKKKKACiiigAooooAKKKKACiiigAooooAKKKKACiiigAooooAKKKKACiiigAooooAKKKKACiiigAooooAKKKKACiiigAooooAKKKKACiiigAooooAKKKKACiiigAooooAKKKKACiiigAooooAKKKKACiiigAooooAKKKKACiiigAooooAKKKKACiiigAooooAKKKKACiiigAooooAKKKKACiiigAooooAKKKKACiiigAooooAKKKKACiiigAooooAKKKKACiiigAooooAKKKKACiiigAooooAKKKKACiiigAooooAKKKKACiiigAooooAKKKKACiiigAooooAKKKKACiiigAooooAKKKKACiiigAooooAKKKKACiiigAooooAKKKKACiiigAooooAKKKKAP//Z' width='200' height='133' class=\"itemThumbnail\">\n",
       "                       </a>\n",
       "                    </div>\n",
       "\n",
       "                    <div class=\"item_right\"     style=\"float: none; width: auto; overflow: hidden;\">\n",
       "                        <a href='https://wms.gru.com/portal/home/item.html?id=5f1f5df48d664d8bbe4b7d4c4805f220' target='_blank'><b>HPS_LEDChangeOut</b>\n",
       "                        </a>\n",
       "                        <br/>HPS light chnage out<img src='https://wms.gru.com/portal/home/js/jsapi/esri/css/images/item_type_icons/featureshosted16.png' style=\"vertical-align:middle;\">Feature Layer Collection by siteadmin\n",
       "                        <br/>Last Modified: March 11, 2018\n",
       "                        <br/>0 comments, 0 views\n",
       "                    </div>\n",
       "                </div>\n",
       "                "
      ],
      "text/plain": [
       "<Item title:\"HPS_LEDChangeOut\" type:Feature Layer Collection owner:siteadmin>"
      ]
     },
     "metadata": {},
     "output_type": "display_data"
    },
    {
     "name": "stdout",
     "output_type": "stream",
     "text": [
      "Download Attachments from HPS_LEDChangeOut [Y,N]n\n"
     ]
    },
    {
     "data": {
      "text/html": [
       "<div class=\"item_container\" style=\"height: auto; overflow: hidden; border: 1px solid #cfcfcf; border-radius: 2px; background: #f6fafa; line-height: 1.21429em; padding: 10px;\">\n",
       "                    <div class=\"item_left\" style=\"width: 210px; float: left;\">\n",
       "                       <a href='https://wms.gru.com/portal/home/item.html?id=8abe91bebd0e46438f742ff22c1bef34' target='_blank'>\n",
       "                        <img src='https://wms.gru.com/portal/portalimages/desktopapp.png' class=\"itemThumbnail\">\n",
       "                       </a>\n",
       "                    </div>\n",
       "\n",
       "                    <div class=\"item_right\"     style=\"float: none; width: auto; overflow: hidden;\">\n",
       "                        <a href='https://wms.gru.com/portal/home/item.html?id=8abe91bebd0e46438f742ff22c1bef34' target='_blank'><b>public_GRUAddressPoints</b>\n",
       "                        </a>\n",
       "                        <br/><img src='https://wms.gru.com/portal/home/js/jsapi/esri/css/images/item_type_icons/featureshosted16.png' style=\"vertical-align:middle;\">Feature Layer Collection by siteadmin\n",
       "                        <br/>Last Modified: May 02, 2019\n",
       "                        <br/>0 comments, 0 views\n",
       "                    </div>\n",
       "                </div>\n",
       "                "
      ],
      "text/plain": [
       "<Item title:\"public_GRUAddressPoints\" type:Feature Layer Collection owner:siteadmin>"
      ]
     },
     "metadata": {},
     "output_type": "display_data"
    },
    {
     "name": "stdout",
     "output_type": "stream",
     "text": [
      "Download Attachments from public_GRUAddressPoints [Y,N]n\n"
     ]
    },
    {
     "data": {
      "text/html": [
       "<div class=\"item_container\" style=\"height: auto; overflow: hidden; border: 1px solid #cfcfcf; border-radius: 2px; background: #f6fafa; line-height: 1.21429em; padding: 10px;\">\n",
       "                    <div class=\"item_left\" style=\"width: 210px; float: left;\">\n",
       "                       <a href='https://wms.gru.com/portal/home/item.html?id=c9fa95fc92a74646bc051d411e6a033b' target='_blank'>\n",
       "                        <img src='data:image/png;base64,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' width='200' height='133' class=\"itemThumbnail\">\n",
       "                       </a>\n",
       "                    </div>\n",
       "\n",
       "                    <div class=\"item_right\"     style=\"float: none; width: auto; overflow: hidden;\">\n",
       "                        <a href='https://wms.gru.com/portal/home/item.html?id=c9fa95fc92a74646bc051d411e6a033b' target='_blank'><b>ElectricDamageAssessmentPie</b>\n",
       "                        </a>\n",
       "                        <br/>Electric Damage Assessment using Pie symbols<img src='https://wms.gru.com/portal/home/js/jsapi/esri/css/images/item_type_icons/featureshosted16.png' style=\"vertical-align:middle;\">Feature Layer Collection by siteadmin\n",
       "                        <br/>Last Modified: May 07, 2018\n",
       "                        <br/>0 comments, 0 views\n",
       "                    </div>\n",
       "                </div>\n",
       "                "
      ],
      "text/plain": [
       "<Item title:\"ElectricDamageAssessmentPie\" type:Feature Layer Collection owner:siteadmin>"
      ]
     },
     "metadata": {},
     "output_type": "display_data"
    },
    {
     "name": "stdout",
     "output_type": "stream",
     "text": [
      "Download Attachments from ElectricDamageAssessmentPie [Y,N]n\n"
     ]
    },
    {
     "data": {
      "text/html": [
       "<div class=\"item_container\" style=\"height: auto; overflow: hidden; border: 1px solid #cfcfcf; border-radius: 2px; background: #f6fafa; line-height: 1.21429em; padding: 10px;\">\n",
       "                    <div class=\"item_left\" style=\"width: 210px; float: left;\">\n",
       "                       <a href='https://wms.gru.com/portal/home/item.html?id=fffcfb1bc1d945a2bcadd19525c1dae9' target='_blank'>\n",
       "                        <img src='https://wms.gru.com/portal/portalimages/desktopapp.png' class=\"itemThumbnail\">\n",
       "                       </a>\n",
       "                    </div>\n",
       "\n",
       "                    <div class=\"item_right\"     style=\"float: none; width: auto; overflow: hidden;\">\n",
       "                        <a href='https://wms.gru.com/portal/home/item.html?id=fffcfb1bc1d945a2bcadd19525c1dae9' target='_blank'><b>WiresDown</b>\n",
       "                        </a>\n",
       "                        <br/><img src='https://wms.gru.com/portal/home/js/jsapi/esri/css/images/item_type_icons/featureshosted16.png' style=\"vertical-align:middle;\">Feature Layer Collection by siteadmin\n",
       "                        <br/>Last Modified: May 02, 2019\n",
       "                        <br/>0 comments, 2 views\n",
       "                    </div>\n",
       "                </div>\n",
       "                "
      ],
      "text/plain": [
       "<Item title:\"WiresDown\" type:Feature Layer Collection owner:siteadmin>"
      ]
     },
     "metadata": {},
     "output_type": "display_data"
    },
    {
     "name": "stdout",
     "output_type": "stream",
     "text": [
      "Download Attachments from WiresDown [Y,N]n\n"
     ]
    },
    {
     "data": {
      "text/html": [
       "<div class=\"item_container\" style=\"height: auto; overflow: hidden; border: 1px solid #cfcfcf; border-radius: 2px; background: #f6fafa; line-height: 1.21429em; padding: 10px;\">\n",
       "                    <div class=\"item_left\" style=\"width: 210px; float: left;\">\n",
       "                       <a href='https://wms.gru.com/portal/home/item.html?id=03562bca93034758bcb186f120b5c04f' target='_blank'>\n",
       "                        <img src='https://wms.gru.com/portal/portalimages/desktopapp.png' class=\"itemThumbnail\">\n",
       "                       </a>\n",
       "                    </div>\n",
       "\n",
       "                    <div class=\"item_right\"     style=\"float: none; width: auto; overflow: hidden;\">\n",
       "                        <a href='https://wms.gru.com/portal/home/item.html?id=03562bca93034758bcb186f120b5c04f' target='_blank'><b>mmReliabilityPatrol</b>\n",
       "                        </a>\n",
       "                        <br/><img src='https://wms.gru.com/portal/home/js/jsapi/esri/css/images/item_type_icons/featureshosted16.png' style=\"vertical-align:middle;\">Feature Layer Collection by siteadmin\n",
       "                        <br/>Last Modified: October 01, 2018\n",
       "                        <br/>0 comments, 0 views\n",
       "                    </div>\n",
       "                </div>\n",
       "                "
      ],
      "text/plain": [
       "<Item title:\"mmReliabilityPatrol\" type:Feature Layer Collection owner:siteadmin>"
      ]
     },
     "metadata": {},
     "output_type": "display_data"
    },
    {
     "name": "stdout",
     "output_type": "stream",
     "text": [
      "Download Attachments from mmReliabilityPatrol [Y,N]n\n"
     ]
    },
    {
     "data": {
      "text/html": [
       "<div class=\"item_container\" style=\"height: auto; overflow: hidden; border: 1px solid #cfcfcf; border-radius: 2px; background: #f6fafa; line-height: 1.21429em; padding: 10px;\">\n",
       "                    <div class=\"item_left\" style=\"width: 210px; float: left;\">\n",
       "                       <a href='https://wms.gru.com/portal/home/item.html?id=b78b342c9fe14fdbb09c7d5cf4c35142' target='_blank'>\n",
       "                        <img src='data:image/png;base64,/9j/4AAQSkZJRgABAgAAAQABAAD/2wBDAAgGBgcGBQgHBwcJCQgKDBQNDAsLDBkSEw8UHRofHh0aHBwgJC4nICIsIxwcKDcpLDAxNDQ0Hyc5PTgyPC4zNDL/2wBDAQkJCQwLDBgNDRgyIRwhMjIyMjIyMjIyMjIyMjIyMjIyMjIyMjIyMjIyMjIyMjIyMjIyMjIyMjIyMjIyMjIyMjL/wAARCACFAMgDASIAAhEBAxEB/8QAHwAAAQUBAQEBAQEAAAAAAAAAAAECAwQFBgcICQoL/8QAtRAAAgEDAwIEAwUFBAQAAAF9AQIDAAQRBRIhMUEGE1FhByJxFDKBkaEII0KxwRVS0fAkM2JyggkKFhcYGRolJicoKSo0NTY3ODk6Q0RFRkdISUpTVFVWV1hZWmNkZWZnaGlqc3R1dnd4eXqDhIWGh4iJipKTlJWWl5iZmqKjpKWmp6ipqrKztLW2t7i5usLDxMXGx8jJytLT1NXW19jZ2uHi4+Tl5ufo6erx8vP09fb3+Pn6/8QAHwEAAwEBAQEBAQEBAQAAAAAAAAECAwQFBgcICQoL/8QAtREAAgECBAQDBAcFBAQAAQJ3AAECAxEEBSExBhJBUQdhcRMiMoEIFEKRobHBCSMzUvAVYnLRChYkNOEl8RcYGRomJygpKjU2Nzg5OkNERUZHSElKU1RVVldYWVpjZGVmZ2hpanN0dXZ3eHl6goOEhYaHiImKkpOUlZaXmJmaoqOkpaanqKmqsrO0tba3uLm6wsPExcbHyMnK0tPU1dbX2Nna4uPk5ebn6Onq8vP09fb3+Pn6/9oADAMBAAIRAxEAPwD3+iiigAooooAKKKKACiiigAooooAKKKKACiiigAooooAKKKKACiiigAooooAKKKKACiiigAooooAKKKKACiiigAooooAKKKKACiiigAooooAKKKKACiiigAooooAKKKKACiiigAooooAKKKKACiiigAooooAKKKKACiiigAooooAKKKKACiiigAooooAKKKKACiiigAooooAKKKKACiiigAooooAKKKKACiiigAooooAKKKKACiiigAooooAKKKKACiiigAooooAKKKKACiiigAooooAKKKKACiiigAooooAKKKKACiiigAooooAKKKKACiiigAooooAKKKKACiiigAooooAKKKKACiiigAooooAKKKKACiiigAooooAKKKKACiiigAooooAKKKKACiiigAooooAKKKKACiiigAooooAKKKKACiiigAooooAKKKKACiiigAooooAKKKKACiiigAooooAKKKKACiiigAooooAKKKKACiiigAooooAKKKKACiiigAooooAKKKKACiiigAooooAKKKKACiiigAooooAKKKKACiiigAooooAKKKKACiiigAooooAKKKKACiiigAooooAKKKKACiiigAooooAKKKKAP//Z' width='200' height='133' class=\"itemThumbnail\">\n",
       "                       </a>\n",
       "                    </div>\n",
       "\n",
       "                    <div class=\"item_right\"     style=\"float: none; width: auto; overflow: hidden;\">\n",
       "                        <a href='https://wms.gru.com/portal/home/item.html?id=b78b342c9fe14fdbb09c7d5cf4c35142' target='_blank'><b>HPS_LEDMapGrid</b>\n",
       "                        </a>\n",
       "                        <br/>HPS light change out<img src='https://wms.gru.com/portal/home/js/jsapi/esri/css/images/item_type_icons/featureshosted16.png' style=\"vertical-align:middle;\">Feature Layer Collection by siteadmin\n",
       "                        <br/>Last Modified: March 11, 2018\n",
       "                        <br/>0 comments, 0 views\n",
       "                    </div>\n",
       "                </div>\n",
       "                "
      ],
      "text/plain": [
       "<Item title:\"HPS_LEDMapGrid\" type:Feature Layer Collection owner:siteadmin>"
      ]
     },
     "metadata": {},
     "output_type": "display_data"
    },
    {
     "name": "stdout",
     "output_type": "stream",
     "text": [
      "Download Attachments from HPS_LEDMapGrid [Y,N]n\n"
     ]
    },
    {
     "data": {
      "text/html": [
       "<div class=\"item_container\" style=\"height: auto; overflow: hidden; border: 1px solid #cfcfcf; border-radius: 2px; background: #f6fafa; line-height: 1.21429em; padding: 10px;\">\n",
       "                    <div class=\"item_left\" style=\"width: 210px; float: left;\">\n",
       "                       <a href='https://wms.gru.com/portal/home/item.html?id=fa6c4ac70c1d4e19bbfb7ad198b5ea4b' target='_blank'>\n",
       "                        <img src='https://wms.gru.com/portal/portalimages/desktopapp.png' class=\"itemThumbnail\">\n",
       "                       </a>\n",
       "                    </div>\n",
       "\n",
       "                    <div class=\"item_right\"     style=\"float: none; width: auto; overflow: hidden;\">\n",
       "                        <a href='https://wms.gru.com/portal/home/item.html?id=fa6c4ac70c1d4e19bbfb7ad198b5ea4b' target='_blank'><b>HurricaneMichaelAssessments</b>\n",
       "                        </a>\n",
       "                        <br/><img src='https://wms.gru.com/portal/home/js/jsapi/esri/css/images/item_type_icons/featureshosted16.png' style=\"vertical-align:middle;\">Feature Layer Collection by siteadmin\n",
       "                        <br/>Last Modified: May 02, 2019\n",
       "                        <br/>0 comments, 11 views\n",
       "                    </div>\n",
       "                </div>\n",
       "                "
      ],
      "text/plain": [
       "<Item title:\"HurricaneMichaelAssessments\" type:Feature Layer Collection owner:siteadmin>"
      ]
     },
     "metadata": {},
     "output_type": "display_data"
    },
    {
     "name": "stdout",
     "output_type": "stream",
     "text": [
      "Download Attachments from HurricaneMichaelAssessments [Y,N]y\n"
     ]
    }
   ],
   "source": [
    "for i in range(len(searchResult)):\n",
    "    display(searchResult[i])\n",
    "    updateResult = input(f'Download Attachments from {(searchResult[i].title)} [Y,N]')\n",
    "    if updateResult.upper() in \"YES\":\n",
    "        sdItem = searchResult[i]\n",
    "        #print(sdItem.title, sdItem.id, sdItem.modified, sdItem.access)\n",
    "        break\n",
    "if updateResult.upper() not in \"YES\":\n",
    "    print(f'All Service Definitions in your Content on {portal_desc[\"portalName\"]} were presented')\n",
    "FeatureLayerId = sdItem.id"
   ]
  },
  {
   "cell_type": "code",
   "execution_count": 8,
   "metadata": {},
   "outputs": [
    {
     "name": "stdout",
     "output_type": "stream",
     "text": [
      "Where do you want your attachments stored?C:\\Users\\friendde\\Documents\\ArcGIS\\Projects\\UpdateDamageAssesment\\Attachments\n"
     ]
    }
   ],
   "source": [
    "SaveAttachmentsTo = input(f'Where do you want your attachments stored?')"
   ]
  },
  {
   "cell_type": "code",
   "execution_count": 9,
   "metadata": {},
   "outputs": [
    {
     "name": "stdout",
     "output_type": "stream",
     "text": [
      "How do you want your attachments stored?\n",
      "Options are GroupedFolder or IndividualFolder\n",
      "GroupedFolder - Attachments from every feature in each layer is stored in the same folder\n",
      "\tattachments are renamed in the format OBJECTID-ATTACHMENTID-OriginalFileName\n",
      "IndividualFolder - A new folder is created for each OBJECTID, and associated attachments are stored in that folder\n",
      "\tattachments are renamed in the format ATTACHMENTID-OriginalFileName\n"
     ]
    }
   ],
   "source": [
    "print(f'How do you want your attachments stored?\\nOptions are GroupedFolder or IndividualFolder')\n",
    "print(f'GroupedFolder - Attachments from every feature in each layer is stored in the same folder\\n\\tattachments are renamed in the format OBJECTID-ATTACHMENTID-OriginalFileName')\n",
    "print(f'IndividualFolder - A new folder is created for each OBJECTID, and associated attachments are stored in that folder\\n\\tattachments are renamed in the format ATTACHMENTID-OriginalFileName')"
   ]
  },
  {
   "cell_type": "code",
   "execution_count": 10,
   "metadata": {},
   "outputs": [
    {
     "name": "stdout",
     "output_type": "stream",
     "text": [
      "Enter GroupedFolder or IndividualFolderGroupedFolder\n"
     ]
    }
   ],
   "source": [
    "AttachmentStorage = input(f'Enter GroupedFolder or IndividualFolder')"
   ]
  },
  {
   "cell_type": "code",
   "execution_count": 11,
   "metadata": {},
   "outputs": [],
   "source": [
    "#Create specified folder if it does not exist already\n",
    "createFolder(SaveAttachmentsTo)\n",
    "createFolder(SaveLogsTo)"
   ]
  },
  {
   "cell_type": "code",
   "execution_count": 27,
   "metadata": {},
   "outputs": [
    {
     "name": "stderr",
     "output_type": "stream",
     "text": [
      "INFO:__main__:Iterating through layers in Feature Layer HurricaneMichaelAssessments\n"
     ]
    },
    {
     "data": {
      "text/html": [
       "<div class=\"item_container\" style=\"height: auto; overflow: hidden; border: 1px solid #cfcfcf; border-radius: 2px; background: #f6fafa; line-height: 1.21429em; padding: 10px;\">\n",
       "                    <div class=\"item_left\" style=\"width: 210px; float: left;\">\n",
       "                       <a href='https://wms.gru.com/portal/home/item.html?id=fa6c4ac70c1d4e19bbfb7ad198b5ea4b' target='_blank'>\n",
       "                        <img src='https://wms.gru.com/portal/portalimages/desktopapp.png' class=\"itemThumbnail\">\n",
       "                       </a>\n",
       "                    </div>\n",
       "\n",
       "                    <div class=\"item_right\"     style=\"float: none; width: auto; overflow: hidden;\">\n",
       "                        <a href='https://wms.gru.com/portal/home/item.html?id=fa6c4ac70c1d4e19bbfb7ad198b5ea4b' target='_blank'><b>HurricaneMichaelAssessments</b>\n",
       "                        </a>\n",
       "                        <br/><img src='https://wms.gru.com/portal/home/js/jsapi/esri/css/images/item_type_icons/featureshosted16.png' style=\"vertical-align:middle;\">Feature Layer Collection by siteadmin\n",
       "                        <br/>Last Modified: May 02, 2019\n",
       "                        <br/>0 comments, 14 views\n",
       "                    </div>\n",
       "                </div>\n",
       "                "
      ],
      "text/plain": [
       "<Item title:\"HurricaneMichaelAssessments\" type:Feature Layer Collection owner:siteadmin>"
      ]
     },
     "metadata": {},
     "output_type": "display_data"
    }
   ],
   "source": [
    "downloadCounter = 0\n",
    "nonDownloadCounter = 0\n",
    "downloadSizeCounter = 0\n",
    "\n",
    "itemObject = gis.content.get(FeatureLayerId)\n",
    "logger.info(f'Iterating through layers in Feature Layer {itemObject.title}')\n",
    "display(itemObject)"
   ]
  },
  {
   "cell_type": "code",
   "execution_count": 20,
   "metadata": {},
   "outputs": [
    {
     "name": "stderr",
     "output_type": "stream",
     "text": [
      "INFO:__main__:Script Starting at 2019-05-02 21:35:08.933382\n",
      "INFO:__main__:Time: 2019-05-02 21:35:09.377550\n",
      "INFO:__main__:Currently looping through feature attachments in layer 1 of 1: storing in folder named 0-HurricaneMichaelAssessments\n",
      "INFO:__main__:There are 51 features in this layer\n"
     ]
    }
   ],
   "source": [
    "logger.info(f'Script Starting at {str(datetime.datetime.now())}')\n",
    "#Loop through layers in Feature Layer\n",
    "for i in range(len(itemObject.layers)):\n",
    "    featureLayer = itemObject.layers[i]\n",
    "    \n",
    "    #Skip layer if attachments are not enabled\n",
    "    if featureLayer.properties.hasAttachments == True:\n",
    "        #Remove any characters from feature layer name that may cause problems and ensure it's unique...\n",
    "        featureLayerName = f\"{str(i)}-{re.sub(r'[^A-Za-z0-9]+', '', featureLayer.properties.name)}\"\n",
    "        featureLayerFolder = SaveAttachmentsTo + r'\\\\' + featureLayerName\n",
    "        createFolder(featureLayerFolder)\n",
    "\n",
    "        #Query to get list of object ids in layer\n",
    "        featureObjectIds = featureLayer.query(where='1=1', return_ids_only=True)\n",
    "\n",
    "        #Provide some updates to user...\n",
    "        logger.info(f'Time: {str(datetime.datetime.now())}')\n",
    "        logger.info(f'Currently looping through feature attachments in layer {str(i + 1)} of {str(len(itemObject.layers))}: storing in folder named {featureLayerName}')\n",
    "        logger.info(f\"There are {str(len(featureObjectIds['objectIds']))} features in this layer\")\n",
    "                                     \n",
    "logger.info(f'Summary: {downloadCounter} new files have been downloaded totalling {(downloadSizeCounter/1000000)}MB')\n",
    "logger.info(f'Summary: {nonDownloadCounter} attachments already existed so were not downloaded again')"
   ]
  }
 ],
 "metadata": {
  "kernelspec": {
   "display_name": "Python 3",
   "language": "python",
   "name": "python3"
  },
  "language_info": {
   "codemirror_mode": {
    "name": "ipython",
    "version": 3
   },
   "file_extension": ".py",
   "mimetype": "text/x-python",
   "name": "python",
   "nbconvert_exporter": "python",
   "pygments_lexer": "ipython3",
   "version": "3.6.6"
  },
  "toc": {
   "colors": {
    "hover_highlight": "#DAA520",
    "navigate_num": "#000000",
    "navigate_text": "#333333",
    "running_highlight": "#FF0000",
    "selected_highlight": "#FFD700",
    "sidebar_border": "#EEEEEE",
    "wrapper_background": "#FFFFFF"
   },
   "moveMenuLeft": true,
   "nav_menu": {
    "height": "12px",
    "width": "252px"
   },
   "navigate_menu": true,
   "number_sections": true,
   "sideBar": true,
   "threshold": 4,
   "toc_cell": false,
   "toc_section_display": "block",
   "toc_window_display": false,
   "widenNotebook": false
  }
 },
 "nbformat": 4,
 "nbformat_minor": 2
}
